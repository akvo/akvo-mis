{
 "cells": [
  {
   "cell_type": "code",
   "execution_count": 1,
   "id": "f34dba97-14ad-492e-ad01-7c54a25d83f1",
   "metadata": {},
   "outputs": [],
   "source": [
    "import geopandas as gpd\n",
    "from shapely import ops\n",
    "from functools import partial"
   ]
  },
  {
   "cell_type": "code",
   "execution_count": 2,
   "id": "90c1edb7-68ac-436e-92ed-3a6d9572f929",
   "metadata": {},
   "outputs": [],
   "source": [
    "input_file = \"2017_PHC_Fiji_Tikina_4326.geojson\"\n",
    "output_file = \"2017_PHC_Fiji_Tikina_4326_fixed.geojson\""
   ]
  },
  {
   "cell_type": "code",
   "execution_count": 3,
   "id": "cb8ab02f-06d5-433c-9f47-eb125fda6bbe",
   "metadata": {},
   "outputs": [],
   "source": [
    "def normalize_lon(lon):\n",
    "    \"\"\"Normalize longitude to -180 to 180\"\"\"\n",
    "    return ((lon + 180) % 360 - 180)\n",
    "\n",
    "\n",
    "def shift_geometry(geom):\n",
    "    \"\"\"Recursively shift coordinates of any geometry type\"\"\"\n",
    "\n",
    "    def _shift_coords(x, y, z=None):\n",
    "        x = normalize_lon(x)\n",
    "        if z is not None:\n",
    "            return (x, y, z)\n",
    "        else:\n",
    "            return (x, y)\n",
    "\n",
    "    return ops.transform(_shift_coords, geom)"
   ]
  },
  {
   "cell_type": "code",
   "execution_count": 4,
   "id": "e2801746-d939-4a01-94ae-ea47e3b7978c",
   "metadata": {},
   "outputs": [],
   "source": [
    "def shift_lon(lon):\n",
    "    \"\"\"Convert -180..180 to 0..360 format\"\"\"\n",
    "    return lon % 360\n",
    "\n",
    "\n",
    "def shift_geometry_positive(geom):\n",
    "    def _shift_coords(x, y, z=None):\n",
    "        x = shift_lon(x)\n",
    "        if z is not None:\n",
    "            return (x, y, z)\n",
    "        else:\n",
    "            return (x, y)\n",
    "\n",
    "    return ops.transform(_shift_coords, geom)"
   ]
  },
  {
   "cell_type": "code",
   "execution_count": 5,
   "id": "57c478f7-eba4-4881-a660-c5f620dc433b",
   "metadata": {},
   "outputs": [],
   "source": [
    "gdf = gpd.read_file(input_file)"
   ]
  },
  {
   "cell_type": "code",
   "execution_count": 6,
   "id": "40961cb2-8393-45ed-b211-65b188a7c3c9",
   "metadata": {},
   "outputs": [
    {
     "name": "stdout",
     "output_type": "stream",
     "text": [
      "Normalizing longitudes...\n"
     ]
    },
    {
     "name": "stderr",
     "output_type": "stream",
     "text": [
      "/home/dedenbangkit/.local/lib/python3.10/site-packages/geopandas/geoseries.py:645: FutureWarning: the convert_dtype parameter is deprecated and will be removed in a future version.  Do ``ser.astype(object).apply()`` instead if you want ``convert_dtype=False``.\n",
      "  result = super().apply(func, convert_dtype=convert_dtype, args=args, **kwargs)\n",
      "/home/dedenbangkit/.local/lib/python3.10/site-packages/geopandas/geoseries.py:645: FutureWarning: the convert_dtype parameter is deprecated and will be removed in a future version.  Do ``ser.astype(object).apply()`` instead if you want ``convert_dtype=False``.\n",
      "  result = super().apply(func, convert_dtype=convert_dtype, args=args, **kwargs)\n"
     ]
    },
    {
     "name": "stdout",
     "output_type": "stream",
     "text": [
      "Saving fixed GeoJSON to 2017_PHC_Fiji_Tikina_4326_fixed.geojson...\n"
     ]
    }
   ],
   "source": [
    "# Reproject to WGS84 (EPSG:4326) just in case\n",
    "if gdf.crs != \"EPSG:4326\":\n",
    "    print(\"Reprojecting to EPSG:4326...\")\n",
    "    gdf = gdf.to_crs(\"EPSG:4326\")\n",
    "\n",
    "# Fix longitudes across International Date Line\n",
    "print(\"Normalizing longitudes...\")\n",
    "gdf[\"geometry\"] = gdf[\"geometry\"].apply(shift_geometry)\n",
    "gdf[\"geometry\"] = gdf[\"geometry\"].apply(shift_geometry_positive)\n",
    "gdf = gdf[gdf.is_valid]\n",
    "\n",
    "print(f\"Saving fixed GeoJSON to {output_file}...\")\n",
    "gdf.to_file(output_file, driver=\"GeoJSON\")"
   ]
  }
 ],
 "metadata": {
  "kernelspec": {
   "display_name": "Python 3 (ipykernel)",
   "language": "python",
   "name": "python3"
  },
  "language_info": {
   "codemirror_mode": {
    "name": "ipython",
    "version": 3
   },
   "file_extension": ".py",
   "mimetype": "text/x-python",
   "name": "python",
   "nbconvert_exporter": "python",
   "pygments_lexer": "ipython3",
   "version": "3.10.7"
  }
 },
 "nbformat": 4,
 "nbformat_minor": 5
}
